{
 "cells": [
  {
   "cell_type": "code",
   "execution_count": 1,
   "id": "fec15f55-3d6c-4765-b784-927c543e639c",
   "metadata": {},
   "outputs": [],
   "source": [
    "import pandas as pd\n",
    "import matplotlib.pyplot as plt\n",
    "import numpy as np\n",
    "import os"
   ]
  },
  {
   "cell_type": "code",
   "execution_count": 2,
   "id": "380cf4c3-d2fa-4de1-ac7d-363ed328e79a",
   "metadata": {},
   "outputs": [],
   "source": [
    "# Para habilitar el render de código latex\n",
    "plt.rcParams.update({\n",
    "  \"text.usetex\": False,\n",
    "  \"font.family\": \"Arial\"\n",
    "})"
   ]
  },
  {
   "cell_type": "code",
   "execution_count": 3,
   "id": "2c5f1af7-d951-4c73-8f5b-3efe51cb4686",
   "metadata": {},
   "outputs": [],
   "source": [
    "def load_comp_csv(filename):\n",
    "    s = np.array(['s='] + list(range(4,11)))\n",
    "    df = pd.read_csv(filename, sep=' ', skiprows=1, index_col=0, names=s, usecols=[0]+list(range(5,12)))\n",
    "    df.index = df.index.map(os.path.basename)\n",
    "    return df"
   ]
  },
  {
   "cell_type": "code",
   "execution_count": 4,
   "id": "1bb3e11e-899a-4ea8-bf91-e6e4867b8daa",
   "metadata": {},
   "outputs": [],
   "source": [
    "run = load_comp_csv('run.csv')"
   ]
  },
  {
   "cell_type": "code",
   "execution_count": 5,
   "id": "f9abdf4f-490a-4bc9-b147-cf8f8e67c434",
   "metadata": {},
   "outputs": [
    {
     "data": {
      "image/png": "[encoded data removed]",
      "text/plain": [
       "<Figure size 864x504 with 1 Axes>"
      ]
     },
     "metadata": {
      "needs_background": "light"
     },
     "output_type": "display_data"
    }
   ],
   "source": [
    "fig, ax = plt.subplots(figsize=(12,7))\n",
    "run.mean().plot(ax=ax);\n",
    "ax.set_xlabel('Valor de s')\n",
    "ax.set_ylabel('Tasa de compresión')\n",
    "ax.set_title('Compresión promedio con modo RUN habilitado')\n",
    "ax.grid();\n",
    "\n",
    "plt.savefig('res.pdf')"
   ]
  },
  {
   "cell_type": "code",
   "execution_count": null,
   "id": "a4d2e4a8-4968-48ed-9fab-71a5ed168ec0",
   "metadata": {},
   "outputs": [],
   "source": []
  },
  {
   "cell_type": "code",
   "execution_count": 42,
   "id": "8f0b6698-742a-4692-b52f-53bceed07c6a",
   "metadata": {},
   "outputs": [
    {
     "data": {
      "text/html": [
       "<div>\n",
       "<style scoped>\n",
       "    .dataframe tbody tr th:only-of-type {\n",
       "        vertical-align: middle;\n",
       "    }\n",
       "\n",
       "    .dataframe tbody tr th {\n",
       "        vertical-align: top;\n",
       "    }\n",
       "\n",
       "    .dataframe thead th {\n",
       "        text-align: right;\n",
       "    }\n",
       "</style>\n",
       "<table border=\"1\" class=\"dataframe\">\n",
       "  <thead>\n",
       "    <tr style=\"text-align: right;\">\n",
       "      <th></th>\n",
       "      <th>4</th>\n",
       "      <th>5</th>\n",
       "      <th>6</th>\n",
       "      <th>7</th>\n",
       "      <th>8</th>\n",
       "      <th>9</th>\n",
       "      <th>10</th>\n",
       "    </tr>\n",
       "    <tr>\n",
       "      <th>s=</th>\n",
       "      <th></th>\n",
       "      <th></th>\n",
       "      <th></th>\n",
       "      <th></th>\n",
       "      <th></th>\n",
       "      <th></th>\n",
       "      <th></th>\n",
       "    </tr>\n",
       "  </thead>\n",
       "  <tbody>\n",
       "    <tr>\n",
       "      <th>barbara.pgm</th>\n",
       "      <td>0.690414</td>\n",
       "      <td>0.688960</td>\n",
       "      <td>0.687319</td>\n",
       "      <td>0.688579</td>\n",
       "      <td>0.692334</td>\n",
       "      <td>0.698660</td>\n",
       "      <td>0.706132</td>\n",
       "    </tr>\n",
       "    <tr>\n",
       "      <th>bike.pgm</th>\n",
       "      <td>0.607508</td>\n",
       "      <td>0.605032</td>\n",
       "      <td>0.601290</td>\n",
       "      <td>0.599924</td>\n",
       "      <td>0.599742</td>\n",
       "      <td>0.600955</td>\n",
       "      <td>0.603678</td>\n",
       "    </tr>\n",
       "    <tr>\n",
       "      <th>faxballsL.pgm</th>\n",
       "      <td>0.209743</td>\n",
       "      <td>0.206915</td>\n",
       "      <td>0.203849</td>\n",
       "      <td>0.202522</td>\n",
       "      <td>0.202406</td>\n",
       "      <td>0.204236</td>\n",
       "      <td>0.206294</td>\n",
       "    </tr>\n",
       "    <tr>\n",
       "      <th>kodim07.pgm</th>\n",
       "      <td>0.543328</td>\n",
       "      <td>0.540617</td>\n",
       "      <td>0.538641</td>\n",
       "      <td>0.538533</td>\n",
       "      <td>0.539295</td>\n",
       "      <td>0.541448</td>\n",
       "      <td>0.543406</td>\n",
       "    </tr>\n",
       "    <tr>\n",
       "      <th>kodim20.pgm</th>\n",
       "      <td>0.476423</td>\n",
       "      <td>0.473543</td>\n",
       "      <td>0.471425</td>\n",
       "      <td>0.469538</td>\n",
       "      <td>0.470224</td>\n",
       "      <td>0.470697</td>\n",
       "      <td>0.472300</td>\n",
       "    </tr>\n",
       "    <tr>\n",
       "      <th>kodim24.pgm</th>\n",
       "      <td>0.661209</td>\n",
       "      <td>0.656094</td>\n",
       "      <td>0.651696</td>\n",
       "      <td>0.650147</td>\n",
       "      <td>0.648656</td>\n",
       "      <td>0.649721</td>\n",
       "      <td>0.652047</td>\n",
       "    </tr>\n",
       "    <tr>\n",
       "      <th>tools.pgm</th>\n",
       "      <td>0.741443</td>\n",
       "      <td>0.734874</td>\n",
       "      <td>0.731981</td>\n",
       "      <td>0.730807</td>\n",
       "      <td>0.731346</td>\n",
       "      <td>0.732932</td>\n",
       "      <td>0.735802</td>\n",
       "    </tr>\n",
       "    <tr>\n",
       "      <th>womanc.pgm</th>\n",
       "      <td>0.600048</td>\n",
       "      <td>0.597140</td>\n",
       "      <td>0.591104</td>\n",
       "      <td>0.588929</td>\n",
       "      <td>0.588062</td>\n",
       "      <td>0.588389</td>\n",
       "      <td>0.589532</td>\n",
       "    </tr>\n",
       "  </tbody>\n",
       "</table>\n",
       "</div>"
      ],
      "text/plain": [
       "                      4         5         6         7         8         9  \\\n",
       "s=                                                                          \n",
       "barbara.pgm    0.690414  0.688960  0.687319  0.688579  0.692334  0.698660   \n",
       "bike.pgm       0.607508  0.605032  0.601290  0.599924  0.599742  0.600955   \n",
       "faxballsL.pgm  0.209743  0.206915  0.203849  0.202522  0.202406  0.204236   \n",
       "kodim07.pgm    0.543328  0.540617  0.538641  0.538533  0.539295  0.541448   \n",
       "kodim20.pgm    0.476423  0.473543  0.471425  0.469538  0.470224  0.470697   \n",
       "kodim24.pgm    0.661209  0.656094  0.651696  0.650147  0.648656  0.649721   \n",
       "tools.pgm      0.741443  0.734874  0.731981  0.730807  0.731346  0.732932   \n",
       "womanc.pgm     0.600048  0.597140  0.591104  0.588929  0.588062  0.588389   \n",
       "\n",
       "                     10  \n",
       "s=                       \n",
       "barbara.pgm    0.706132  \n",
       "bike.pgm       0.603678  \n",
       "faxballsL.pgm  0.206294  \n",
       "kodim07.pgm    0.543406  \n",
       "kodim20.pgm    0.472300  \n",
       "kodim24.pgm    0.652047  \n",
       "tools.pgm      0.735802  \n",
       "womanc.pgm     0.589532  "
      ]
     },
     "execution_count": 42,
     "metadata": {},
     "output_type": "execute_result"
    }
   ],
   "source": [
    "norun = load_comp_csv('norun.csv')\n",
    "norun"
   ]
  },
  {
   "cell_type": "code",
   "execution_count": null,
   "id": "af71c89c-2655-4826-9abc-e8c5ea3aa396",
   "metadata": {},
   "outputs": [],
   "source": []
  }
 ],
 "metadata": {
  "kernelspec": {
   "display_name": "Python 3 (ipykernel)",
   "language": "python",
   "name": "python3"
  },
  "language_info": {
   "codemirror_mode": {
    "name": "ipython",
    "version": 3
   },
   "file_extension": ".py",
   "mimetype": "text/x-python",
   "name": "python",
   "nbconvert_exporter": "python",
   "pygments_lexer": "ipython3",
   "version": "3.10.2"
  }
 },
 "nbformat": 4,
 "nbformat_minor": 5
}
